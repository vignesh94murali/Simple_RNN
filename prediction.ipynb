{
 "cells": [
  {
   "cell_type": "code",
   "execution_count": 87,
   "id": "f2697326",
   "metadata": {},
   "outputs": [],
   "source": [
    "# Step 1: Import Libraries and Load the Model\n",
    "import numpy as np\n",
    "import tensorflow as tf\n",
    "from tensorflow.keras.datasets import imdb\n",
    "from tensorflow.keras.preprocessing import sequence\n",
    "from tensorflow.keras.models import load_model"
   ]
  },
  {
   "cell_type": "code",
   "execution_count": 88,
   "id": "980f4806",
   "metadata": {},
   "outputs": [],
   "source": [
    "# Load the IMDB dataset word index\n",
    "word_index = imdb.get_word_index()\n",
    "reverse_word_index = {value: key for key, value in word_index.items()}"
   ]
  },
  {
   "cell_type": "code",
   "execution_count": 89,
   "id": "a89f61fd",
   "metadata": {},
   "outputs": [
    {
     "name": "stderr",
     "output_type": "stream",
     "text": [
      "WARNING:absl:Compiled the loaded model, but the compiled metrics have yet to be built. `model.compile_metrics` will be empty until you train or evaluate the model.\n"
     ]
    },
    {
     "data": {
      "text/html": [
       "<pre style=\"white-space:pre;overflow-x:auto;line-height:normal;font-family:Menlo,'DejaVu Sans Mono',consolas,'Courier New',monospace\"><span style=\"font-weight: bold\">Model: \"sequential_6\"</span>\n",
       "</pre>\n"
      ],
      "text/plain": [
       "\u001b[1mModel: \"sequential_6\"\u001b[0m\n"
      ]
     },
     "metadata": {},
     "output_type": "display_data"
    },
    {
     "data": {
      "text/html": [
       "<pre style=\"white-space:pre;overflow-x:auto;line-height:normal;font-family:Menlo,'DejaVu Sans Mono',consolas,'Courier New',monospace\">┏━━━━━━━━━━━━━━━━━━━━━━━━━━━━━━━━━┳━━━━━━━━━━━━━━━━━━━━━━━━┳━━━━━━━━━━━━━━━┓\n",
       "┃<span style=\"font-weight: bold\"> Layer (type)                    </span>┃<span style=\"font-weight: bold\"> Output Shape           </span>┃<span style=\"font-weight: bold\">       Param # </span>┃\n",
       "┡━━━━━━━━━━━━━━━━━━━━━━━━━━━━━━━━━╇━━━━━━━━━━━━━━━━━━━━━━━━╇━━━━━━━━━━━━━━━┩\n",
       "│ embedding_5 (<span style=\"color: #0087ff; text-decoration-color: #0087ff\">Embedding</span>)         │ (<span style=\"color: #00d7ff; text-decoration-color: #00d7ff\">None</span>, <span style=\"color: #00af00; text-decoration-color: #00af00\">500</span>, <span style=\"color: #00af00; text-decoration-color: #00af00\">128</span>)       │     <span style=\"color: #00af00; text-decoration-color: #00af00\">1,280,000</span> │\n",
       "├─────────────────────────────────┼────────────────────────┼───────────────┤\n",
       "│ simple_rnn_5 (<span style=\"color: #0087ff; text-decoration-color: #0087ff\">SimpleRNN</span>)        │ (<span style=\"color: #00d7ff; text-decoration-color: #00d7ff\">None</span>, <span style=\"color: #00af00; text-decoration-color: #00af00\">32</span>)             │         <span style=\"color: #00af00; text-decoration-color: #00af00\">5,152</span> │\n",
       "├─────────────────────────────────┼────────────────────────┼───────────────┤\n",
       "│ dense_5 (<span style=\"color: #0087ff; text-decoration-color: #0087ff\">Dense</span>)                 │ (<span style=\"color: #00d7ff; text-decoration-color: #00d7ff\">None</span>, <span style=\"color: #00af00; text-decoration-color: #00af00\">1</span>)              │            <span style=\"color: #00af00; text-decoration-color: #00af00\">33</span> │\n",
       "└─────────────────────────────────┴────────────────────────┴───────────────┘\n",
       "</pre>\n"
      ],
      "text/plain": [
       "┏━━━━━━━━━━━━━━━━━━━━━━━━━━━━━━━━━┳━━━━━━━━━━━━━━━━━━━━━━━━┳━━━━━━━━━━━━━━━┓\n",
       "┃\u001b[1m \u001b[0m\u001b[1mLayer (type)                   \u001b[0m\u001b[1m \u001b[0m┃\u001b[1m \u001b[0m\u001b[1mOutput Shape          \u001b[0m\u001b[1m \u001b[0m┃\u001b[1m \u001b[0m\u001b[1m      Param #\u001b[0m\u001b[1m \u001b[0m┃\n",
       "┡━━━━━━━━━━━━━━━━━━━━━━━━━━━━━━━━━╇━━━━━━━━━━━━━━━━━━━━━━━━╇━━━━━━━━━━━━━━━┩\n",
       "│ embedding_5 (\u001b[38;5;33mEmbedding\u001b[0m)         │ (\u001b[38;5;45mNone\u001b[0m, \u001b[38;5;34m500\u001b[0m, \u001b[38;5;34m128\u001b[0m)       │     \u001b[38;5;34m1,280,000\u001b[0m │\n",
       "├─────────────────────────────────┼────────────────────────┼───────────────┤\n",
       "│ simple_rnn_5 (\u001b[38;5;33mSimpleRNN\u001b[0m)        │ (\u001b[38;5;45mNone\u001b[0m, \u001b[38;5;34m32\u001b[0m)             │         \u001b[38;5;34m5,152\u001b[0m │\n",
       "├─────────────────────────────────┼────────────────────────┼───────────────┤\n",
       "│ dense_5 (\u001b[38;5;33mDense\u001b[0m)                 │ (\u001b[38;5;45mNone\u001b[0m, \u001b[38;5;34m1\u001b[0m)              │            \u001b[38;5;34m33\u001b[0m │\n",
       "└─────────────────────────────────┴────────────────────────┴───────────────┘\n"
      ]
     },
     "metadata": {},
     "output_type": "display_data"
    },
    {
     "data": {
      "text/html": [
       "<pre style=\"white-space:pre;overflow-x:auto;line-height:normal;font-family:Menlo,'DejaVu Sans Mono',consolas,'Courier New',monospace\"><span style=\"font-weight: bold\"> Total params: </span><span style=\"color: #00af00; text-decoration-color: #00af00\">1,285,187</span> (4.90 MB)\n",
       "</pre>\n"
      ],
      "text/plain": [
       "\u001b[1m Total params: \u001b[0m\u001b[38;5;34m1,285,187\u001b[0m (4.90 MB)\n"
      ]
     },
     "metadata": {},
     "output_type": "display_data"
    },
    {
     "data": {
      "text/html": [
       "<pre style=\"white-space:pre;overflow-x:auto;line-height:normal;font-family:Menlo,'DejaVu Sans Mono',consolas,'Courier New',monospace\"><span style=\"font-weight: bold\"> Trainable params: </span><span style=\"color: #00af00; text-decoration-color: #00af00\">1,285,185</span> (4.90 MB)\n",
       "</pre>\n"
      ],
      "text/plain": [
       "\u001b[1m Trainable params: \u001b[0m\u001b[38;5;34m1,285,185\u001b[0m (4.90 MB)\n"
      ]
     },
     "metadata": {},
     "output_type": "display_data"
    },
    {
     "data": {
      "text/html": [
       "<pre style=\"white-space:pre;overflow-x:auto;line-height:normal;font-family:Menlo,'DejaVu Sans Mono',consolas,'Courier New',monospace\"><span style=\"font-weight: bold\"> Non-trainable params: </span><span style=\"color: #00af00; text-decoration-color: #00af00\">0</span> (0.00 B)\n",
       "</pre>\n"
      ],
      "text/plain": [
       "\u001b[1m Non-trainable params: \u001b[0m\u001b[38;5;34m0\u001b[0m (0.00 B)\n"
      ]
     },
     "metadata": {},
     "output_type": "display_data"
    },
    {
     "data": {
      "text/html": [
       "<pre style=\"white-space:pre;overflow-x:auto;line-height:normal;font-family:Menlo,'DejaVu Sans Mono',consolas,'Courier New',monospace\"><span style=\"font-weight: bold\"> Optimizer params: </span><span style=\"color: #00af00; text-decoration-color: #00af00\">2</span> (12.00 B)\n",
       "</pre>\n"
      ],
      "text/plain": [
       "\u001b[1m Optimizer params: \u001b[0m\u001b[38;5;34m2\u001b[0m (12.00 B)\n"
      ]
     },
     "metadata": {},
     "output_type": "display_data"
    }
   ],
   "source": [
    "# Load the pre-trained model with ReLU activation\n",
    "model = load_model('simple_rnn_imdb.h5')\n",
    "model.summary()"
   ]
  },
  {
   "cell_type": "code",
   "execution_count": 90,
   "id": "9d996324",
   "metadata": {},
   "outputs": [
    {
     "data": {
      "text/plain": [
       "[array([[ 0.01393569,  0.21603236, -0.01819568, ...,  0.04675501,\n",
       "         -0.19361706, -0.08209278],\n",
       "        [ 0.01295028, -0.03842365, -0.07120682, ...,  0.03967668,\n",
       "         -0.02782435,  0.0281125 ],\n",
       "        [ 0.009642  , -0.03846123,  0.00772106, ...,  0.04709796,\n",
       "          0.00813213, -0.06104372],\n",
       "        ...,\n",
       "        [-0.02990153, -0.03739482,  0.02745711, ..., -0.00647317,\n",
       "         -0.02376387, -0.012087  ],\n",
       "        [-0.04268108,  0.08635484,  0.03046996, ..., -0.03520964,\n",
       "          0.08514498,  0.05715192],\n",
       "        [ 0.05929279,  0.01162096, -0.00438854, ..., -0.00227431,\n",
       "          0.00225507, -0.01366275]], dtype=float32),\n",
       " array([[ 5.55745438e-02,  4.70659025e-02, -1.51511505e-01, ...,\n",
       "          1.15174346e-01,  1.83971390e-01, -2.06149191e-01],\n",
       "        [-1.78734422e-01, -9.83806476e-02,  4.52493466e-02, ...,\n",
       "          2.57048249e-01,  1.21553548e-01,  4.90441434e-02],\n",
       "        [-3.50632966e-02, -1.53694436e-01,  2.37561151e-04, ...,\n",
       "          1.03609040e-01, -1.27328366e-01,  3.55954096e-02],\n",
       "        ...,\n",
       "        [-5.98286502e-02,  1.79331645e-01, -3.26985195e-02, ...,\n",
       "         -1.73426226e-01, -6.99845329e-02, -1.50453985e-01],\n",
       "        [-8.23956355e-02, -1.20461881e-01, -3.27471346e-01, ...,\n",
       "          1.79379895e-01, -5.17123844e-03, -1.61050245e-01],\n",
       "        [ 4.17587608e-02, -3.50190192e-01, -2.31358200e-01, ...,\n",
       "         -1.01309726e-02,  5.72671145e-02, -1.87224075e-01]], dtype=float32),\n",
       " array([[ 0.07855807, -0.13255978, -0.13507843, ...,  0.09797071,\n",
       "          0.10709994,  0.29756686],\n",
       "        [-0.15252255, -0.13733521,  0.06366859, ..., -0.02478579,\n",
       "         -0.05597475,  0.2280748 ],\n",
       "        [-0.34848443, -0.01155323, -0.3538872 , ..., -0.20147839,\n",
       "         -0.01969656,  0.00379716],\n",
       "        ...,\n",
       "        [-0.06514389, -0.10332281,  0.09174505, ..., -0.5150752 ,\n",
       "         -0.0149208 , -0.05674283],\n",
       "        [ 0.20077763,  0.13936915, -0.11727109, ...,  0.03306208,\n",
       "          0.03490078,  0.04640149],\n",
       "        [-0.06056891,  0.18151781, -0.356894  , ..., -0.04533533,\n",
       "         -0.15898548, -0.20801428]], dtype=float32),\n",
       " array([ 1.1601552e-02,  9.4202347e-03, -5.8861824e-05,  3.9017277e-03,\n",
       "         4.4536524e-02,  3.3471971e-03,  2.2528157e-02,  2.6130565e-02,\n",
       "        -2.5602555e-02,  2.4763450e-02, -4.6972316e-02, -6.3367516e-02,\n",
       "         3.3318016e-03, -2.3461338e-03, -4.0349206e-03, -4.0133684e-03,\n",
       "        -2.7977447e-03, -1.7129950e-02,  5.6029048e-02,  1.9562194e-02,\n",
       "         2.1535369e-02, -2.7715428e-02, -2.4221245e-02,  5.6701370e-02,\n",
       "         2.6618110e-02,  1.4043285e-02,  4.3182481e-02,  2.9309370e-02,\n",
       "        -1.7832812e-02,  2.5677125e-03,  3.1725772e-02, -8.5563464e-03],\n",
       "       dtype=float32),\n",
       " array([[-0.2298208 ],\n",
       "        [-0.3478254 ],\n",
       "        [-0.61767673],\n",
       "        [-0.01063267],\n",
       "        [-0.17807296],\n",
       "        [-0.21496487],\n",
       "        [ 0.12978008],\n",
       "        [-0.07265767],\n",
       "        [-0.6894466 ],\n",
       "        [ 0.05638095],\n",
       "        [ 0.62056893],\n",
       "        [ 0.14091021],\n",
       "        [-0.25605488],\n",
       "        [-0.7334391 ],\n",
       "        [-0.14266267],\n",
       "        [-0.24873878],\n",
       "        [-0.15668228],\n",
       "        [-0.6233331 ],\n",
       "        [-0.3999718 ],\n",
       "        [ 0.10029286],\n",
       "        [ 0.04752543],\n",
       "        [ 0.36045113],\n",
       "        [-0.16321182],\n",
       "        [ 0.3551047 ],\n",
       "        [ 0.42700708],\n",
       "        [-0.23779023],\n",
       "        [-0.14395055],\n",
       "        [ 0.5768938 ],\n",
       "        [-0.3577007 ],\n",
       "        [ 0.4113423 ],\n",
       "        [ 0.5281696 ],\n",
       "        [-0.4822503 ]], dtype=float32),\n",
       " array([0.07618178], dtype=float32)]"
      ]
     },
     "execution_count": 90,
     "metadata": {},
     "output_type": "execute_result"
    }
   ],
   "source": [
    "model.get_weights()"
   ]
  },
  {
   "cell_type": "code",
   "execution_count": 91,
   "id": "1128b1b7",
   "metadata": {},
   "outputs": [],
   "source": [
    "# Step 2: Helper Functions\n",
    "# Function to decode reviews\n",
    "def decode_review(encoded_review):\n",
    "    return ' '.join([reverse_word_index.get(i - 3, '?') for i in encoded_review])\n",
    "\n",
    "# Function to preprocess user input\n",
    "def preprocess_text(text):\n",
    "    words = text.lower().split()\n",
    "    encoded_review = [word_index.get(word, 2) + 3 for word in words]\n",
    "    padded_review = sequence.pad_sequences([encoded_review], maxlen=500)\n",
    "    return padded_review"
   ]
  },
  {
   "cell_type": "code",
   "execution_count": 92,
   "id": "57b4b68e",
   "metadata": {},
   "outputs": [],
   "source": [
    "### Prediction  function\n",
    "\n",
    "def predict_sentiment(review):\n",
    "    preprocessed_input=preprocess_text(review)\n",
    "\n",
    "    prediction=model.predict(preprocessed_input)\n",
    "\n",
    "    sentiment = 'Positive' if prediction[0][0] > 0.5 else 'Negative'\n",
    "    \n",
    "    return sentiment, prediction[0][0]"
   ]
  },
  {
   "cell_type": "code",
   "execution_count": 93,
   "id": "2112c5a7",
   "metadata": {},
   "outputs": [
    {
     "name": "stdout",
     "output_type": "stream",
     "text": [
      "\u001b[1m1/1\u001b[0m \u001b[32m━━━━━━━━━━━━━━━━━━━━\u001b[0m\u001b[37m\u001b[0m \u001b[1m0s\u001b[0m 115ms/step\n",
      "Review: This movie was fantastic, the acting was great and the plot was thrilling\n",
      "Sentiment: Positive\n",
      "Prediction Score: 0.6128803491592407\n"
     ]
    }
   ],
   "source": [
    "# Step 4: User Input and Prediction\n",
    "# Example review for prediction\n",
    "example_review = \"This movie was fantastic, the acting was great and the plot was thrilling\"\n",
    "\n",
    "sentiment,score=predict_sentiment(example_review)\n",
    "\n",
    "print(f'Review: {example_review}')\n",
    "print(f'Sentiment: {sentiment}')\n",
    "print(f'Prediction Score: {score}')"
   ]
  },
  {
   "cell_type": "code",
   "execution_count": null,
   "id": "2528c227",
   "metadata": {},
   "outputs": [],
   "source": [
    "    "
   ]
  }
 ],
 "metadata": {
  "kernelspec": {
   "display_name": "Python 3",
   "language": "python",
   "name": "python3"
  },
  "language_info": {
   "codemirror_mode": {
    "name": "ipython",
    "version": 3
   },
   "file_extension": ".py",
   "mimetype": "text/x-python",
   "name": "python",
   "nbconvert_exporter": "python",
   "pygments_lexer": "ipython3",
   "version": "3.12.9"
  }
 },
 "nbformat": 4,
 "nbformat_minor": 5
}
