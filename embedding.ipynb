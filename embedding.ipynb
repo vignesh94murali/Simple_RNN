{
 "cells": [
  {
   "cell_type": "code",
   "execution_count": 1,
   "id": "1310e3ec",
   "metadata": {},
   "outputs": [
    {
     "name": "stdout",
     "output_type": "stream",
     "text": [
      "WARNING:tensorflow:From c:\\Users\\vigne\\anaconda3\\envs\\tf215\\lib\\site-packages\\keras\\src\\losses.py:2976: The name tf.losses.sparse_softmax_cross_entropy is deprecated. Please use tf.compat.v1.losses.sparse_softmax_cross_entropy instead.\n",
      "\n"
     ]
    }
   ],
   "source": [
    "from tensorflow.keras.preprocessing.text import one_hot"
   ]
  },
  {
   "cell_type": "code",
   "execution_count": 2,
   "id": "ca26c925",
   "metadata": {},
   "outputs": [],
   "source": [
    "sent = [\n",
    "    'the glass of milk',\n",
    "    'the glass of juice',\n",
    "    'the cup of tea',\n",
    "    'I am a good boy',\n",
    "    'I am a good developer',\n",
    "    'understand the meaning of words',\n",
    "    'your videos are good'\n",
    "]"
   ]
  },
  {
   "cell_type": "code",
   "execution_count": 3,
   "id": "bee507b8",
   "metadata": {},
   "outputs": [
    {
     "data": {
      "text/plain": [
       "['the glass of milk',\n",
       " 'the glass of juice',\n",
       " 'the cup of tea',\n",
       " 'I am a good boy',\n",
       " 'I am a good developer',\n",
       " 'understand the meaning of words',\n",
       " 'your videos are good']"
      ]
     },
     "execution_count": 3,
     "metadata": {},
     "output_type": "execute_result"
    }
   ],
   "source": [
    "sent"
   ]
  },
  {
   "cell_type": "code",
   "execution_count": 4,
   "id": "210f1663",
   "metadata": {},
   "outputs": [],
   "source": [
    "## Define the vocabulary size\n",
    "\n",
    "voc_size = 10000    "
   ]
  },
  {
   "cell_type": "code",
   "execution_count": 5,
   "id": "4a39c915",
   "metadata": {},
   "outputs": [
    {
     "data": {
      "text/plain": [
       "[[2294, 3226, 5559, 5998],\n",
       " [2294, 3226, 5559, 1230],\n",
       " [2294, 833, 5559, 8806],\n",
       " [9856, 2721, 5286, 476, 1537],\n",
       " [9856, 2721, 5286, 476, 2133],\n",
       " [4712, 2294, 2434, 5559, 5649],\n",
       " [6241, 3374, 5103, 476]]"
      ]
     },
     "execution_count": 5,
     "metadata": {},
     "output_type": "execute_result"
    }
   ],
   "source": [
    "### One Hot representation for every word\n",
    "\n",
    "one_hot_repr = [one_hot(words, voc_size) for words in sent]\n",
    "one_hot_repr"
   ]
  },
  {
   "cell_type": "code",
   "execution_count": 6,
   "id": "455984c1",
   "metadata": {},
   "outputs": [],
   "source": [
    "## word embedding representation\n",
    "\n",
    "from tensorflow.keras.layers import Embedding\n",
    "# from tensorflow.keras.preprocessing.sequence import pad_sequences\n",
    "from tensorflow.keras.utils import pad_sequences\n",
    "from tensorflow.keras.models import Sequential"
   ]
  },
  {
   "cell_type": "code",
   "execution_count": 7,
   "id": "61b87a94",
   "metadata": {},
   "outputs": [],
   "source": [
    "import numpy as np"
   ]
  },
  {
   "cell_type": "code",
   "execution_count": 8,
   "id": "8d2656b8",
   "metadata": {},
   "outputs": [
    {
     "name": "stdout",
     "output_type": "stream",
     "text": [
      "[[   0    0    0    0 2294 3226 5559 5998]\n",
      " [   0    0    0    0 2294 3226 5559 1230]\n",
      " [   0    0    0    0 2294  833 5559 8806]\n",
      " [   0    0    0 9856 2721 5286  476 1537]\n",
      " [   0    0    0 9856 2721 5286  476 2133]\n",
      " [   0    0    0 4712 2294 2434 5559 5649]\n",
      " [   0    0    0    0 6241 3374 5103  476]]\n"
     ]
    }
   ],
   "source": [
    "sent_length = 8\n",
    "embedded_docs = pad_sequences(one_hot_repr, padding='pre', maxlen=sent_length)\n",
    "print(embedded_docs)"
   ]
  },
  {
   "cell_type": "code",
   "execution_count": 9,
   "id": "9a162941",
   "metadata": {},
   "outputs": [
    {
     "data": {
      "text/plain": [
       "['the glass of milk',\n",
       " 'the glass of juice',\n",
       " 'the cup of tea',\n",
       " 'I am a good boy',\n",
       " 'I am a good developer',\n",
       " 'understand the meaning of words',\n",
       " 'your videos are good']"
      ]
     },
     "execution_count": 9,
     "metadata": {},
     "output_type": "execute_result"
    }
   ],
   "source": [
    "sent"
   ]
  },
  {
   "cell_type": "code",
   "execution_count": 10,
   "id": "abfe73a2",
   "metadata": {},
   "outputs": [],
   "source": [
    "## feature representation\n",
    "\n",
    "dim = 10"
   ]
  },
  {
   "cell_type": "code",
   "execution_count": 11,
   "id": "80eba781",
   "metadata": {},
   "outputs": [
    {
     "name": "stdout",
     "output_type": "stream",
     "text": [
      "WARNING:tensorflow:From c:\\Users\\vigne\\anaconda3\\envs\\tf215\\lib\\site-packages\\keras\\src\\backend.py:873: The name tf.get_default_graph is deprecated. Please use tf.compat.v1.get_default_graph instead.\n",
      "\n",
      "WARNING:tensorflow:From c:\\Users\\vigne\\anaconda3\\envs\\tf215\\lib\\site-packages\\keras\\src\\optimizers\\__init__.py:309: The name tf.train.Optimizer is deprecated. Please use tf.compat.v1.train.Optimizer instead.\n",
      "\n"
     ]
    }
   ],
   "source": [
    "model=Sequential()\n",
    "model.add(Embedding(voc_size, dim, input_length=sent_length))\n",
    "model.compile('adam', 'mse')"
   ]
  },
  {
   "cell_type": "code",
   "execution_count": 12,
   "id": "20e95251",
   "metadata": {},
   "outputs": [
    {
     "name": "stdout",
     "output_type": "stream",
     "text": [
      "Model: \"sequential\"\n",
      "_________________________________________________________________\n",
      " Layer (type)                Output Shape              Param #   \n",
      "=================================================================\n",
      " embedding (Embedding)       (None, 8, 10)             100000    \n",
      "                                                                 \n",
      "=================================================================\n",
      "Total params: 100000 (390.62 KB)\n",
      "Trainable params: 100000 (390.62 KB)\n",
      "Non-trainable params: 0 (0.00 Byte)\n",
      "_________________________________________________________________\n"
     ]
    }
   ],
   "source": [
    "model.summary()"
   ]
  },
  {
   "cell_type": "code",
   "execution_count": 17,
   "id": "002ec77c",
   "metadata": {},
   "outputs": [
    {
     "name": "stdout",
     "output_type": "stream",
     "text": [
      "1/1 [==============================] - 0s 29ms/step\n"
     ]
    },
    {
     "data": {
      "text/plain": [
       "array([[-9.72374529e-03,  6.06876612e-03, -1.74052827e-02,\n",
       "         4.14402522e-02,  2.78188325e-02,  2.25778930e-02,\n",
       "        -4.37812209e-02, -4.67801355e-02, -2.74080876e-02,\n",
       "         4.07418050e-02],\n",
       "       [-9.72374529e-03,  6.06876612e-03, -1.74052827e-02,\n",
       "         4.14402522e-02,  2.78188325e-02,  2.25778930e-02,\n",
       "        -4.37812209e-02, -4.67801355e-02, -2.74080876e-02,\n",
       "         4.07418050e-02],\n",
       "       [-9.72374529e-03,  6.06876612e-03, -1.74052827e-02,\n",
       "         4.14402522e-02,  2.78188325e-02,  2.25778930e-02,\n",
       "        -4.37812209e-02, -4.67801355e-02, -2.74080876e-02,\n",
       "         4.07418050e-02],\n",
       "       [-9.72374529e-03,  6.06876612e-03, -1.74052827e-02,\n",
       "         4.14402522e-02,  2.78188325e-02,  2.25778930e-02,\n",
       "        -4.37812209e-02, -4.67801355e-02, -2.74080876e-02,\n",
       "         4.07418050e-02],\n",
       "       [-4.95773219e-02, -3.29777375e-02, -3.12792659e-02,\n",
       "        -3.99432294e-02, -1.26425512e-02, -1.76817067e-02,\n",
       "         4.97259013e-02, -4.05807011e-02,  4.28245179e-02,\n",
       "         6.85417652e-03],\n",
       "       [-2.06952225e-02,  1.75038315e-02, -9.24458355e-03,\n",
       "         1.82725303e-02,  3.43505293e-03,  3.16153839e-03,\n",
       "         5.85258007e-04, -5.35226986e-03,  4.92735244e-02,\n",
       "         3.59598435e-02],\n",
       "       [-4.29493897e-02,  4.49339040e-02,  2.70701163e-02,\n",
       "         8.55306536e-03,  3.53159048e-02, -3.58868241e-02,\n",
       "         2.20923163e-02, -2.88535003e-02, -6.87614083e-05,\n",
       "         3.51550318e-02],\n",
       "       [-7.94895738e-03, -4.93017696e-02, -4.74865325e-02,\n",
       "        -3.79274376e-02, -2.41701677e-03, -1.10982545e-02,\n",
       "        -3.93153057e-02, -2.91502010e-02,  2.66274251e-02,\n",
       "         1.24224909e-02]], dtype=float32)"
      ]
     },
     "execution_count": 17,
     "metadata": {},
     "output_type": "execute_result"
    }
   ],
   "source": [
    "model.predict(embedded_docs[0])"
   ]
  },
  {
   "cell_type": "code",
   "execution_count": null,
   "id": "d3ac1161",
   "metadata": {},
   "outputs": [],
   "source": []
  }
 ],
 "metadata": {
  "kernelspec": {
   "display_name": "tf215",
   "language": "python",
   "name": "python3"
  },
  "language_info": {
   "codemirror_mode": {
    "name": "ipython",
    "version": 3
   },
   "file_extension": ".py",
   "mimetype": "text/x-python",
   "name": "python",
   "nbconvert_exporter": "python",
   "pygments_lexer": "ipython3",
   "version": "3.10.16"
  }
 },
 "nbformat": 4,
 "nbformat_minor": 5
}
